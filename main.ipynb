{
 "cells": [
  {
   "cell_type": "code",
   "execution_count": 15,
   "metadata": {},
   "outputs": [],
   "source": [
    "from PIL import Image\n",
    "import numpy as np\n",
    "import os\n",
    "\n",
    "def load_data(*path: str, labels: list, skip: bool = True) -> np.ndarray:\n",
    "    \"\"\"\n",
    "    Loads data from a given path and returns a numpy array with the image and label of each file.\n",
    "\n",
    "    Parameters:\n",
    "    -----------\n",
    "    path: str -> Path to the data folder. (can be multiple paths)\n",
    "    labels: list -> List of labels for each path.\n",
    "    skip: bool -> Skip files that are not images or cannot be read. (default: True)\n",
    "\n",
    "    Returns:\n",
    "    --------\n",
    "    data_array: np.ndarray -> Numpy array with the image and label of each file.\n",
    "    \"\"\"\n",
    "\n",
    "    # list to store the data. \n",
    "    data_array = []\n",
    "    skipped_files = 0 # Number of skipped files.\n",
    "\n",
    "    # ---------------------------------------------------\n",
    "    # Check if the number of paths and labels are equal.\n",
    "    # If not equal raise an error.\n",
    "    # ---------------------------------------------------\n",
    "    if len(path) == len(labels):\n",
    "\n",
    "        # Loop through the paths and labels.\n",
    "        for p, l in zip(path, labels):\n",
    "\n",
    "            # --------------------------\n",
    "            # Check if the path exists.\n",
    "            # If not raise an error.\n",
    "            # --------------------------    \n",
    "            if os.path.exists(p):\n",
    "                \n",
    "                # ----------------------------------------------\n",
    "                # Loop through the files in the path.\n",
    "                # Append the image and label to the list.\n",
    "                # ----------------------------------------------\n",
    "                for file in os.listdir(p):\n",
    "                    # Try to catch errors when reading the image.\n",
    "                    try:\n",
    "                        # Append the image and label to the list.\n",
    "                        data_array.append([Image.open(os.path.join(p, file)), l])\n",
    "\n",
    "                    except Image.UnidentifiedImageError as e:\n",
    "                        # If skip is True, skip the file.\n",
    "                        if skip:\n",
    "                            skipped_files += 1 \n",
    "                        else:\n",
    "                            raise e\n",
    "            else:\n",
    "                raise FileNotFoundError(\"Path does not exist\")\n",
    "    else:\n",
    "        raise ValueError(\"Number of paths and labels must be equal\")\n",
    "    \n",
    "    if skipped_files > 0:\n",
    "        print(f\"Skipped {skipped_files} files\")\n",
    "\n",
    "    # Return the numpy array.\n",
    "    return np.array(data_array, dtype=object)"
   ]
  },
  {
   "cell_type": "code",
   "execution_count": 16,
   "metadata": {},
   "outputs": [
    {
     "ename": "ValueError",
     "evalue": "setting an array element with a sequence. The requested array has an inhomogeneous shape after 1 dimensions. The detected shape was (2,) + inhomogeneous part.",
     "output_type": "error",
     "traceback": [
      "\u001b[1;31m---------------------------------------------------------------------------\u001b[0m",
      "\u001b[1;31mValueError\u001b[0m                                Traceback (most recent call last)",
      "Cell \u001b[1;32mIn[16], line 4\u001b[0m\n\u001b[0;32m      1\u001b[0m path_fire \u001b[38;5;241m=\u001b[39m \u001b[38;5;124m'\u001b[39m\u001b[38;5;124m./Data/fire/fire/fire-images/\u001b[39m\u001b[38;5;124m'\u001b[39m\n\u001b[0;32m      2\u001b[0m path_forest \u001b[38;5;241m=\u001b[39m \u001b[38;5;124m'\u001b[39m\u001b[38;5;124m./Data/fire/fire/forest-images/\u001b[39m\u001b[38;5;124m'\u001b[39m\n\u001b[1;32m----> 4\u001b[0m dataset \u001b[38;5;241m=\u001b[39m \u001b[43mload_data\u001b[49m\u001b[43m(\u001b[49m\u001b[43mpath_fire\u001b[49m\u001b[43m,\u001b[49m\u001b[43m \u001b[49m\u001b[43mpath_forest\u001b[49m\u001b[43m,\u001b[49m\u001b[43m \u001b[49m\u001b[43mlabels\u001b[49m\u001b[38;5;241;43m=\u001b[39;49m\u001b[43m[\u001b[49m\u001b[38;5;124;43m'\u001b[39;49m\u001b[38;5;124;43mfire\u001b[39;49m\u001b[38;5;124;43m'\u001b[39;49m\u001b[43m,\u001b[49m\u001b[43m \u001b[49m\u001b[38;5;124;43m'\u001b[39;49m\u001b[38;5;124;43mforest\u001b[39;49m\u001b[38;5;124;43m'\u001b[39;49m\u001b[43m]\u001b[49m\u001b[43m)\u001b[49m\n\u001b[0;32m      6\u001b[0m \u001b[38;5;28mprint\u001b[39m(\u001b[38;5;124mf\u001b[39m\u001b[38;5;124m\"\u001b[39m\u001b[38;5;124mdataset len: \u001b[39m\u001b[38;5;132;01m{\u001b[39;00m\u001b[38;5;28mlen\u001b[39m(dataset)\u001b[38;5;132;01m}\u001b[39;00m\u001b[38;5;124m\"\u001b[39m)\n\u001b[0;32m      7\u001b[0m \u001b[38;5;28mprint\u001b[39m(\u001b[38;5;124mf\u001b[39m\u001b[38;5;124m\"\u001b[39m\u001b[38;5;124mdataset shape: \u001b[39m\u001b[38;5;132;01m{\u001b[39;00mdataset\u001b[38;5;241m.\u001b[39mshape\u001b[38;5;132;01m}\u001b[39;00m\u001b[38;5;124m\"\u001b[39m)\n",
      "Cell \u001b[1;32mIn[15], line 47\u001b[0m, in \u001b[0;36mload_data\u001b[1;34m(labels, skip, *path)\u001b[0m\n\u001b[0;32m     43\u001b[0m \u001b[38;5;28;01mfor\u001b[39;00m file \u001b[38;5;129;01min\u001b[39;00m os\u001b[38;5;241m.\u001b[39mlistdir(p):\n\u001b[0;32m     44\u001b[0m     \u001b[38;5;66;03m# Try to catch errors when reading the image.\u001b[39;00m\n\u001b[0;32m     45\u001b[0m     \u001b[38;5;28;01mtry\u001b[39;00m:\n\u001b[0;32m     46\u001b[0m         \u001b[38;5;66;03m# Append the image and label to the list.\u001b[39;00m\n\u001b[1;32m---> 47\u001b[0m         data_array \u001b[38;5;241m=\u001b[39m \u001b[43mnp\u001b[49m\u001b[38;5;241;43m.\u001b[39;49m\u001b[43mappend\u001b[49m\u001b[43m(\u001b[49m\u001b[43mdata_array\u001b[49m\u001b[43m,\u001b[49m\u001b[43m \u001b[49m\u001b[43m[\u001b[49m\u001b[43mImage\u001b[49m\u001b[38;5;241;43m.\u001b[39;49m\u001b[43mopen\u001b[49m\u001b[43m(\u001b[49m\u001b[43mos\u001b[49m\u001b[38;5;241;43m.\u001b[39;49m\u001b[43mpath\u001b[49m\u001b[38;5;241;43m.\u001b[39;49m\u001b[43mjoin\u001b[49m\u001b[43m(\u001b[49m\u001b[43mp\u001b[49m\u001b[43m,\u001b[49m\u001b[43m \u001b[49m\u001b[43mfile\u001b[49m\u001b[43m)\u001b[49m\u001b[43m)\u001b[49m\u001b[43m,\u001b[49m\u001b[43m \u001b[49m\u001b[43ml\u001b[49m\u001b[43m]\u001b[49m\u001b[43m)\u001b[49m\n\u001b[0;32m     48\u001b[0m         \u001b[38;5;66;03m#data_array.append([Image.open(os.path.join(p, file)), l])\u001b[39;00m\n\u001b[0;32m     50\u001b[0m     \u001b[38;5;28;01mexcept\u001b[39;00m Image\u001b[38;5;241m.\u001b[39mUnidentifiedImageError \u001b[38;5;28;01mas\u001b[39;00m e:\n\u001b[0;32m     51\u001b[0m         \u001b[38;5;66;03m# If skip is True, skip the file.\u001b[39;00m\n",
      "File \u001b[1;32mc:\\Users\\Philip\\.virtualenvs\\Project_Deep_Learning-8qSyIK8g\\lib\\site-packages\\numpy\\lib\\function_base.py:5615\u001b[0m, in \u001b[0;36mappend\u001b[1;34m(arr, values, axis)\u001b[0m\n\u001b[0;32m   5613\u001b[0m     \u001b[38;5;28;01mif\u001b[39;00m arr\u001b[38;5;241m.\u001b[39mndim \u001b[38;5;241m!=\u001b[39m \u001b[38;5;241m1\u001b[39m:\n\u001b[0;32m   5614\u001b[0m         arr \u001b[38;5;241m=\u001b[39m arr\u001b[38;5;241m.\u001b[39mravel()\n\u001b[1;32m-> 5615\u001b[0m     values \u001b[38;5;241m=\u001b[39m \u001b[43mravel\u001b[49m\u001b[43m(\u001b[49m\u001b[43mvalues\u001b[49m\u001b[43m)\u001b[49m\n\u001b[0;32m   5616\u001b[0m     axis \u001b[38;5;241m=\u001b[39m arr\u001b[38;5;241m.\u001b[39mndim\u001b[38;5;241m-\u001b[39m\u001b[38;5;241m1\u001b[39m\n\u001b[0;32m   5617\u001b[0m \u001b[38;5;28;01mreturn\u001b[39;00m concatenate((arr, values), axis\u001b[38;5;241m=\u001b[39maxis)\n",
      "File \u001b[1;32mc:\\Users\\Philip\\.virtualenvs\\Project_Deep_Learning-8qSyIK8g\\lib\\site-packages\\numpy\\core\\fromnumeric.py:1874\u001b[0m, in \u001b[0;36mravel\u001b[1;34m(a, order)\u001b[0m\n\u001b[0;32m   1872\u001b[0m     \u001b[38;5;28;01mreturn\u001b[39;00m asarray(a)\u001b[38;5;241m.\u001b[39mravel(order\u001b[38;5;241m=\u001b[39morder)\n\u001b[0;32m   1873\u001b[0m \u001b[38;5;28;01melse\u001b[39;00m:\n\u001b[1;32m-> 1874\u001b[0m     \u001b[38;5;28;01mreturn\u001b[39;00m \u001b[43masanyarray\u001b[49m\u001b[43m(\u001b[49m\u001b[43ma\u001b[49m\u001b[43m)\u001b[49m\u001b[38;5;241m.\u001b[39mravel(order\u001b[38;5;241m=\u001b[39morder)\n",
      "\u001b[1;31mValueError\u001b[0m: setting an array element with a sequence. The requested array has an inhomogeneous shape after 1 dimensions. The detected shape was (2,) + inhomogeneous part."
     ]
    }
   ],
   "source": [
    "path_fire = './Data/fire/fire/fire-images/'\n",
    "path_forest = './Data/fire/fire/forest-images/'\n",
    "\n",
    "dataset = load_data(path_fire, path_forest, labels=['fire', 'forest'])\n",
    "\n",
    "print(f\"dataset len: {len(dataset)}\")\n",
    "print(f\"dataset shape: {dataset.shape}\")\n",
    "print(f\"dataset fire images: {len([index for index in dataset if index[1] == 'fire'])}\")\n",
    "print(f\"dataset forest images: {len([index for index in dataset if index[1] == 'forest'])}\")"
   ]
  },
  {
   "cell_type": "code",
   "execution_count": 5,
   "metadata": {},
   "outputs": [],
   "source": [
    "from sklearn.model_selection import train_test_split\n",
    "\n",
    "X_train, X_test, y_train, y_test = train_test_split(dataset[:, 0], dataset[:, 1], test_size=0.2, random_state=42)\n",
    "\n"
   ]
  },
  {
   "cell_type": "code",
   "execution_count": 23,
   "metadata": {},
   "outputs": [],
   "source": [
    "l = [[1, 2, 3], [4, 5, 6], [7, 8, 9]]\n",
    "l = np.array(l)"
   ]
  },
  {
   "cell_type": "code",
   "execution_count": 26,
   "metadata": {},
   "outputs": [
    {
     "name": "stdout",
     "output_type": "stream",
     "text": [
      "[[1 2 3]\n",
      " [4 5 6]\n",
      " [7 8 9]]\n"
     ]
    }
   ],
   "source": [
    "print(l)"
   ]
  },
  {
   "cell_type": "code",
   "execution_count": null,
   "metadata": {},
   "outputs": [],
   "source": []
  }
 ],
 "metadata": {
  "kernelspec": {
   "display_name": "Project_Deep_Learning-8qSyIK8g",
   "language": "python",
   "name": "python3"
  },
  "language_info": {
   "codemirror_mode": {
    "name": "ipython",
    "version": 3
   },
   "file_extension": ".py",
   "mimetype": "text/x-python",
   "name": "python",
   "nbconvert_exporter": "python",
   "pygments_lexer": "ipython3",
   "version": "3.9.10"
  }
 },
 "nbformat": 4,
 "nbformat_minor": 2
}
