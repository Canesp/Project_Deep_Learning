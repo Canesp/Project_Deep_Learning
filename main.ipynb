{
 "cells": [
  {
   "cell_type": "code",
   "execution_count": 2,
   "metadata": {},
   "outputs": [],
   "source": [
    "from PIL import Image\n",
    "import numpy as np\n",
    "import os\n",
    "\n",
    "def load_data(*path: str, labels: list, skip: bool = True) -> np.ndarray:\n",
    "    \"\"\"\n",
    "    Loads data from a given path and returns a numpy array with the image and label of each file.\n",
    "\n",
    "    Parameters:\n",
    "    -----------\n",
    "    path: str -> Path to the data folder. (can be multiple paths)\n",
    "    labels: list -> List of labels for each path.\n",
    "\n",
    "    Returns:\n",
    "    --------\n",
    "    data_array: np.ndarray -> Numpy array with the image and label of each file.\n",
    "    \"\"\"\n",
    "\n",
    "    # Array to store the data. \n",
    "    data_array = []\n",
    "    skipped_files = 0\n",
    "\n",
    "    # ---------------------------------------------------\n",
    "    # Check if the number of paths and labels are equal.\n",
    "    # If not equal raise an error.\n",
    "    # ---------------------------------------------------\n",
    "    if len(path) == len(labels):\n",
    "\n",
    "        # Loop through the paths and labels.\n",
    "        for p, l in zip(path, labels):\n",
    "\n",
    "            # --------------------------\n",
    "            # Check if the path exists.\n",
    "            # If not raise an error.\n",
    "            # --------------------------    \n",
    "            if os.path.exists(p):\n",
    "                \n",
    "                # ----------------------------------------------\n",
    "                # Loop through the files in the path.\n",
    "                # Append the image and label to the numpy array.\n",
    "                # ----------------------------------------------\n",
    "                for file in os.listdir(p):\n",
    "                    try:\n",
    "                        data_array.append([Image.open(os.path.join(p, file)), l])\n",
    "                    except Image.UnidentifiedImageError as e:\n",
    "                        if skip:\n",
    "                            skipped_files += 1\n",
    "                        else:\n",
    "                            raise e\n",
    "            else:\n",
    "                raise FileNotFoundError(\"Path does not exist\")\n",
    "    else:\n",
    "        raise ValueError(\"Number of paths and labels must be equal\")\n",
    "    \n",
    "    if skipped_files > 0:\n",
    "        print(f\"Skipped {skipped_files} files\")\n",
    "\n",
    "    # Return the numpy array.\n",
    "    return np.array(data_array, dtype=object)"
   ]
  },
  {
   "cell_type": "code",
   "execution_count": 5,
   "metadata": {},
   "outputs": [
    {
     "name": "stdout",
     "output_type": "stream",
     "text": [
      "Skipped 389 files\n",
      "dataset len: 4773\n",
      "dataset shape: (4773, 2)\n",
      "dataset fire images: 2111\n",
      "dataset forest images: 2662\n"
     ]
    }
   ],
   "source": [
    "path_fire = './Data/fire/fire/fire-images/'\n",
    "path_forest = './Data/fire/fire/forest-images/'\n",
    "\n",
    "dataset = load_data(path_fire, path_forest, labels=['fire', 'forest'])\n",
    "\n",
    "print(f\"dataset len: {len(dataset)}\")\n",
    "print(f\"dataset shape: {dataset.shape}\")\n",
    "print(f\"dataset fire images: {len([index for index in dataset if index[1] == 'fire'])}\")\n",
    "print(f\"dataset forest images: {len([index for index in dataset if index[1] == 'forest'])}\")"
   ]
  },
  {
   "cell_type": "code",
   "execution_count": 5,
   "metadata": {},
   "outputs": [],
   "source": [
    "from sklearn.model_selection import train_test_split\n",
    "\n",
    "X_train, X_test, y_train, y_test = train_test_split(dataset[:, 0], dataset[:, 1], test_size=0.2, random_state=42)\n",
    "\n"
   ]
  },
  {
   "cell_type": "code",
   "execution_count": 40,
   "metadata": {},
   "outputs": [
    {
     "ename": "UnidentifiedImageError",
     "evalue": "cannot identify image file './Data/fire/fire/fire-images/F_830.jpg'",
     "output_type": "error",
     "traceback": [
      "\u001b[1;31m---------------------------------------------------------------------------\u001b[0m",
      "\u001b[1;31mUnidentifiedImageError\u001b[0m                    Traceback (most recent call last)",
      "Cell \u001b[1;32mIn[40], line 4\u001b[0m\n\u001b[0;32m      1\u001b[0m \u001b[38;5;28;01mimport\u001b[39;00m \u001b[38;5;21;01mmatplotlib\u001b[39;00m\u001b[38;5;21;01m.\u001b[39;00m\u001b[38;5;21;01mpyplot\u001b[39;00m \u001b[38;5;28;01mas\u001b[39;00m \u001b[38;5;21;01mplt\u001b[39;00m\n\u001b[0;32m      2\u001b[0m \u001b[38;5;28;01mfrom\u001b[39;00m \u001b[38;5;21;01mPIL\u001b[39;00m \u001b[38;5;28;01mimport\u001b[39;00m Image\n\u001b[1;32m----> 4\u001b[0m images \u001b[38;5;241m=\u001b[39m [Image\u001b[38;5;241m.\u001b[39mopen(X_train[i]) \u001b[38;5;28;01mfor\u001b[39;00m i \u001b[38;5;129;01min\u001b[39;00m \u001b[38;5;28mrange\u001b[39m(\u001b[38;5;241m10\u001b[39m)]\n\u001b[0;32m      5\u001b[0m images\n",
      "Cell \u001b[1;32mIn[40], line 4\u001b[0m, in \u001b[0;36m<listcomp>\u001b[1;34m(.0)\u001b[0m\n\u001b[0;32m      1\u001b[0m \u001b[38;5;28;01mimport\u001b[39;00m \u001b[38;5;21;01mmatplotlib\u001b[39;00m\u001b[38;5;21;01m.\u001b[39;00m\u001b[38;5;21;01mpyplot\u001b[39;00m \u001b[38;5;28;01mas\u001b[39;00m \u001b[38;5;21;01mplt\u001b[39;00m\n\u001b[0;32m      2\u001b[0m \u001b[38;5;28;01mfrom\u001b[39;00m \u001b[38;5;21;01mPIL\u001b[39;00m \u001b[38;5;28;01mimport\u001b[39;00m Image\n\u001b[1;32m----> 4\u001b[0m images \u001b[38;5;241m=\u001b[39m [\u001b[43mImage\u001b[49m\u001b[38;5;241;43m.\u001b[39;49m\u001b[43mopen\u001b[49m\u001b[43m(\u001b[49m\u001b[43mX_train\u001b[49m\u001b[43m[\u001b[49m\u001b[43mi\u001b[49m\u001b[43m]\u001b[49m\u001b[43m)\u001b[49m \u001b[38;5;28;01mfor\u001b[39;00m i \u001b[38;5;129;01min\u001b[39;00m \u001b[38;5;28mrange\u001b[39m(\u001b[38;5;241m10\u001b[39m)]\n\u001b[0;32m      5\u001b[0m images\n",
      "File \u001b[1;32mc:\\Users\\Philip\\.virtualenvs\\Project_Deep_Learning-8qSyIK8g\\lib\\site-packages\\PIL\\Image.py:3309\u001b[0m, in \u001b[0;36mopen\u001b[1;34m(fp, mode, formats)\u001b[0m\n\u001b[0;32m   3307\u001b[0m     warnings\u001b[38;5;241m.\u001b[39mwarn(message)\n\u001b[0;32m   3308\u001b[0m msg \u001b[38;5;241m=\u001b[39m \u001b[38;5;124m\"\u001b[39m\u001b[38;5;124mcannot identify image file \u001b[39m\u001b[38;5;132;01m%r\u001b[39;00m\u001b[38;5;124m\"\u001b[39m \u001b[38;5;241m%\u001b[39m (filename \u001b[38;5;28;01mif\u001b[39;00m filename \u001b[38;5;28;01melse\u001b[39;00m fp)\n\u001b[1;32m-> 3309\u001b[0m \u001b[38;5;28;01mraise\u001b[39;00m UnidentifiedImageError(msg)\n",
      "\u001b[1;31mUnidentifiedImageError\u001b[0m: cannot identify image file './Data/fire/fire/fire-images/F_830.jpg'"
     ]
    }
   ],
   "source": [
    "import matplotlib.pyplot as plt\n",
    "from PIL import Image\n",
    "\n",
    "images = [Image.open(X_train[i]) for i in range(10)]\n",
    "images"
   ]
  },
  {
   "cell_type": "code",
   "execution_count": 23,
   "metadata": {},
   "outputs": [],
   "source": [
    "l = [[1, 2, 3], [4, 5, 6], [7, 8, 9]]\n",
    "l = np.array(l)"
   ]
  },
  {
   "cell_type": "code",
   "execution_count": 26,
   "metadata": {},
   "outputs": [
    {
     "name": "stdout",
     "output_type": "stream",
     "text": [
      "[[1 2 3]\n",
      " [4 5 6]\n",
      " [7 8 9]]\n"
     ]
    }
   ],
   "source": [
    "print(l)"
   ]
  },
  {
   "cell_type": "code",
   "execution_count": null,
   "metadata": {},
   "outputs": [],
   "source": []
  }
 ],
 "metadata": {
  "kernelspec": {
   "display_name": "Project_Deep_Learning-8qSyIK8g",
   "language": "python",
   "name": "python3"
  },
  "language_info": {
   "codemirror_mode": {
    "name": "ipython",
    "version": 3
   },
   "file_extension": ".py",
   "mimetype": "text/x-python",
   "name": "python",
   "nbconvert_exporter": "python",
   "pygments_lexer": "ipython3",
   "version": "3.9.10"
  }
 },
 "nbformat": 4,
 "nbformat_minor": 2
}
