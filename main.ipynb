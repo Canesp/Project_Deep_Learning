{
 "cells": [
  {
   "cell_type": "code",
   "execution_count": 8,
   "metadata": {},
   "outputs": [],
   "source": [
    "import numpy as np\n",
    "import os\n",
    "\n",
    "def load_data(*path: str, labels: list) -> np.ndarray:\n",
    "    \"\"\"\n",
    "    Loads data from a given path and returns a numpy array with the path and label of each file.\n",
    "\n",
    "    Parameters:\n",
    "    -----------\n",
    "    path: str -> Path to the data folder. (can be multiple paths)\n",
    "    labels: list -> List of labels for each path.\n",
    "\n",
    "    Returns:\n",
    "    --------\n",
    "    data_array: np.ndarray -> Numpy array with the path and label of each file.\n",
    "    \"\"\"\n",
    "\n",
    "    # Array to store the data. \n",
    "    data_array = np.array([])\n",
    "\n",
    "    # ---------------------------------------------------\n",
    "    # Check if the number of paths and labels are equal.\n",
    "    # If not equal raise an error.\n",
    "    # ---------------------------------------------------\n",
    "    if len(path) == len(labels):\n",
    "\n",
    "        # Loop through the paths and labels.\n",
    "        for p, l in zip(path, labels):\n",
    "\n",
    "            # --------------------------\n",
    "            # Check if the path exists.\n",
    "            # If not raise an error.\n",
    "            # --------------------------    \n",
    "            if os.path.exists(p):\n",
    "                \n",
    "                # ----------------------------------------------\n",
    "                # Loop through the files in the path.\n",
    "                # Append the path and label to the numpy array.\n",
    "                # ----------------------------------------------\n",
    "                for file in os.listdir(p):\n",
    "                    data_array = np.append(data_array, [os.path.join(p, file), l])\n",
    "            else:\n",
    "                raise FileNotFoundError(\"Path does not exist\")\n",
    "    else:\n",
    "        raise ValueError(\"Number of paths and labels must be equal\")\n",
    "    \n",
    "    # Return the numpy array.\n",
    "    return data_array"
   ]
  },
  {
   "cell_type": "code",
   "execution_count": null,
   "metadata": {},
   "outputs": [],
   "source": []
  }
 ],
 "metadata": {
  "kernelspec": {
   "display_name": "Project_Deep_Learning-8qSyIK8g",
   "language": "python",
   "name": "python3"
  },
  "language_info": {
   "codemirror_mode": {
    "name": "ipython",
    "version": 3
   },
   "file_extension": ".py",
   "mimetype": "text/x-python",
   "name": "python",
   "nbconvert_exporter": "python",
   "pygments_lexer": "ipython3",
   "version": "3.9.10"
  }
 },
 "nbformat": 4,
 "nbformat_minor": 2
}
