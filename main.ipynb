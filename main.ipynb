{
 "cells": [
  {
   "cell_type": "code",
   "execution_count": 8,
   "metadata": {},
   "outputs": [],
   "source": [
    "import numpy as np\n",
    "import os\n",
    "\n",
    "def load_data(*path: str, labels: list) -> np.ndarray:\n",
    "    \n",
    "    data_array = np.array([])\n",
    "\n",
    "    if len(path) == len(labels):\n",
    "\n",
    "        for p, l in zip(path, labels):\n",
    "            \n",
    "            if os.path.exists(p):\n",
    "                \n",
    "                for file in os.listdir(p):\n",
    "                    data_array = np.append(data_array, [os.path.join(p, file), l])\n",
    "            else:\n",
    "                raise FileNotFoundError(\"Path does not exist\")\n",
    "    else:\n",
    "        raise ValueError(\"Number of paths and labels must be equal\")\n",
    "    \n",
    "    return data_array"
   ]
  },
  {
   "cell_type": "code",
   "execution_count": null,
   "metadata": {},
   "outputs": [],
   "source": []
  }
 ],
 "metadata": {
  "kernelspec": {
   "display_name": "Project_Deep_Learning-8qSyIK8g",
   "language": "python",
   "name": "python3"
  },
  "language_info": {
   "codemirror_mode": {
    "name": "ipython",
    "version": 3
   },
   "file_extension": ".py",
   "mimetype": "text/x-python",
   "name": "python",
   "nbconvert_exporter": "python",
   "pygments_lexer": "ipython3",
   "version": "3.9.10"
  }
 },
 "nbformat": 4,
 "nbformat_minor": 2
}
